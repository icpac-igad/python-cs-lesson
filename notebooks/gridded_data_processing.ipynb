{
 "cells": [
  {
   "cell_type": "markdown",
   "id": "d8f333b7",
   "metadata": {},
   "source": [
    "## to read and plot a netcdf file"
   ]
  },
  {
   "cell_type": "code",
   "execution_count": null,
   "id": "3ec7f82a",
   "metadata": {},
   "outputs": [],
   "source": [
    "accesscm2_pr_file = 'data/pr_Amon_ACCESS-CM2_historical_r1i1p1f1_gn_201001-201412.nc'\n"
   ]
  },
  {
   "cell_type": "code",
   "execution_count": null,
   "id": "9ed38b4a",
   "metadata": {},
   "outputs": [],
   "source": [
    "import xarray as xr\n",
    "import cartopy.crs as ccrs\n",
    "import matplotlib.pyplot as plt\n",
    "import numpy as np\n"
   ]
  },
  {
   "cell_type": "code",
   "execution_count": null,
   "id": "2d5614c0",
   "metadata": {},
   "outputs": [],
   "source": [
    "dset = xr.open_dataset(accesscm2_pr_file)\n",
    "print(dset)\n"
   ]
  },
  {
   "cell_type": "code",
   "execution_count": null,
   "id": "d23c5e24",
   "metadata": {},
   "outputs": [],
   "source": [
    "print(dset['pr'])\n"
   ]
  },
  {
   "cell_type": "code",
   "execution_count": null,
   "id": "46a237a1",
   "metadata": {},
   "outputs": [],
   "source": [
    "clim = dset['pr'].mean('time', keep_attrs=True)\n",
    "print(clim)\n"
   ]
  },
  {
   "cell_type": "code",
   "execution_count": null,
   "id": "108ee516",
   "metadata": {},
   "outputs": [],
   "source": [
    "type(clim.data)\n"
   ]
  },
  {
   "cell_type": "code",
   "execution_count": null,
   "id": "6d4b9402",
   "metadata": {},
   "outputs": [],
   "source": [
    "clim.data = clim.data * 86400\n",
    "clim.attrs['units'] = 'mm/day' \n",
    "\n",
    "print(clim)\n"
   ]
  },
  {
   "cell_type": "code",
   "execution_count": null,
   "id": "e59f4b42",
   "metadata": {},
   "outputs": [],
   "source": [
    "fig = plt.figure(figsize=[12,5])\n",
    "\n",
    "ax = fig.add_subplot(111, projection=ccrs.PlateCarree(central_longitude=180))\n",
    "\n",
    "clim.plot.contourf(ax=ax,\n",
    "                   levels=np.arange(0, 13.5, 1.5),\n",
    "                   extend='max',\n",
    "                   transform=ccrs.PlateCarree(),\n",
    "                   cbar_kwargs={'label': clim.units})\n",
    "ax.coastlines()\n",
    "\n",
    "plt.show()\n"
   ]
  },
  {
   "cell_type": "code",
   "execution_count": null,
   "id": "2b3329aa",
   "metadata": {},
   "outputs": [],
   "source": [
    "import xarray as xr\n",
    "import cartopy.crs as ccrs\n",
    "import matplotlib.pyplot as plt\n",
    "import numpy as np\n",
    "\n",
    "accesscm2_pr_file = 'data/pr_Amon_ACCESS-CM2_historical_r1i1p1f1_gn_201001-201412.nc'\n",
    "\n",
    "dset = xr.open_dataset(accesscm2_pr_file)\n",
    "\n",
    "clim = dset['pr'].mean('time', keep_attrs=True)\n",
    "\n",
    "clim.data = clim.data * 86400\n",
    "clim.attrs['units'] = 'mm/day'\n",
    "\n",
    "fig = plt.figure(figsize=[12,5])\n",
    "ax = fig.add_subplot(111, projection=ccrs.PlateCarree(central_longitude=180))\n",
    "clim.plot.contourf(ax=ax,\n",
    "                   levels=np.arange(0, 13.5, 1.5),\n",
    "                   extend='max',\n",
    "                   transform=ccrs.PlateCarree(),\n",
    "                   cbar_kwargs={'label': clim.units},\n",
    "                   cmap='viridis_r')\n",
    "ax.coastlines()\n",
    "plt.show()\n"
   ]
  }
 ],
 "metadata": {
  "kernelspec": {
   "display_name": "Python 3 (ipykernel)",
   "language": "python",
   "name": "python3"
  },
  "language_info": {
   "codemirror_mode": {
    "name": "ipython",
    "version": 3
   },
   "file_extension": ".py",
   "mimetype": "text/x-python",
   "name": "python",
   "nbconvert_exporter": "python",
   "pygments_lexer": "ipython3",
   "version": "3.9.7"
  },
  "toc": {
   "base_numbering": 1,
   "nav_menu": {},
   "number_sections": true,
   "sideBar": true,
   "skip_h1_title": false,
   "title_cell": "Table of Contents",
   "title_sidebar": "Contents",
   "toc_cell": false,
   "toc_position": {},
   "toc_section_display": true,
   "toc_window_display": false
  }
 },
 "nbformat": 4,
 "nbformat_minor": 5
}
